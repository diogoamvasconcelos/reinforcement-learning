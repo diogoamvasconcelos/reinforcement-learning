{
 "cells": [
  {
   "cell_type": "markdown",
   "metadata": {
    "collapsed": true
   },
   "source": [
    "### This is Example 4.3. Gambler’s Problem from Sutton's book.\n",
    "\n",
    "A gambler has the opportunity to make bets on the outcomes of a sequence of coin flips. \n",
    "If the coin comes up heads, he wins as many dollars as he has staked on that flip; \n",
    "if it is tails, he loses his stake. The game ends when the gambler wins by reaching his goal of $100, \n",
    "or loses by running out of money. \n",
    "\n",
    "On each flip, the gambler must decide what portion of his capital to stake, in integer numbers of dollars. \n",
    "This problem can be formulated as an undiscounted, episodic, finite MDP. \n",
    "\n",
    "The state is the gambler’s capital, s ∈ {1, 2, . . . , 99}.\n",
    "The actions are stakes, a ∈ {0, 1, . . . , min(s, 100 − s)}. \n",
    "The reward is zero on all transitions except those on which the gambler reaches his goal, when it is +1.\n",
    "\n",
    "The state-value function then gives the probability of winning from each state. A policy is a mapping from levels of capital to stakes. The optimal policy maximizes the probability of reaching the goal. Let p_h denote the probability of the coin coming up heads. If p_h is known, then the entire problem is known and it can be solved, for instance, by value iteration.\n"
   ]
  },
  {
   "cell_type": "code",
   "execution_count": 1,
   "metadata": {},
   "outputs": [],
   "source": [
    "import numpy as np\n",
    "import sys\n",
    "import matplotlib.pyplot as plt\n",
    "if \"../\" not in sys.path:\n",
    "  sys.path.append(\"../\") "
   ]
  },
  {
   "cell_type": "markdown",
   "metadata": {
    "collapsed": true
   },
   "source": [
    "\n",
    "### Exercise 4.9 (programming)\n",
    "\n",
    "Implement value iteration for the gambler’s problem and solve it for p_h = 0.25 and p_h = 0.55.\n",
    "\n"
   ]
  },
  {
   "cell_type": "code",
   "execution_count": 3,
   "metadata": {},
   "outputs": [],
   "source": [
    "def value_iteration_for_gamblers(p_h, theta=0.0001, discount_factor=1.0):\n",
    "    \"\"\"\n",
    "    Args:\n",
    "        p_h: Probability of the coin coming up heads\n",
    "    \"\"\"\n",
    "\n",
    "    \n",
    "    def one_step_lookahead(s, V, rewards):\n",
    "        \"\"\"\n",
    "        Helper function to calculate the value for all action in a given state.\n",
    "        \n",
    "        Args:\n",
    "            s: The gambler’s capital. Integer.\n",
    "            V: The vector that contains values at each state. \n",
    "            rewards: The reward vector.\n",
    "                        \n",
    "        Returns:\n",
    "            A vector containing the expected value of each action. \n",
    "            Its length equals to the number of actions.\n",
    "        \"\"\" \n",
    "        nA = min(s, 100-s)\n",
    "        Qs = np.zeros(nA)\n",
    "        for a in range(nA):\n",
    "            #win\n",
    "            s_ = s + (a+1)\n",
    "            Qs[a] += p_h * (rewards[s_] + discount_factor * V[s_])\n",
    "            #lose\n",
    "            s_ = s - (a+1)\n",
    "            Qs[a] += (1-p_h) * (rewards[s_] + discount_factor * V[s_])\n",
    "        \n",
    "        return Qs\n",
    "    \n",
    "    # Implement!\n",
    "    nS = 100\n",
    "    rewards = np.zeros(nS+1)\n",
    "    rewards[nS] = 1\n",
    "\n",
    "    V = np.zeros(nS+1)\n",
    "    policy = np.zeros(nS)\n",
    "\n",
    "    while True:\n",
    "        cached_v = np.copy(V)\n",
    "        for s in range(1, nS):\n",
    "            Qs = one_step_lookahead(s, V, rewards)\n",
    "            V[s] = np.max(Qs)\n",
    "\n",
    "        if (np.sum(abs(cached_v - V)) < theta):\n",
    "            break\n",
    "\n",
    "    #greedy over V to get the policy\n",
    "    for s in range(1, nS):\n",
    "        Qs = one_step_lookahead(s, V, rewards)\n",
    "        policy[s] = np.argmax(Qs)\n",
    "    \n",
    "    return policy, V"
   ]
  },
  {
   "cell_type": "code",
   "execution_count": 4,
   "metadata": {},
   "outputs": [
    {
     "name": "stdout",
     "output_type": "stream",
     "text": [
      "Optimized Policy:\n",
      "[  0.   0.   1.   2.   3.   4.   5.   6.   7.   8.   9.  10.  11.  12.  10.\n",
      "   9.   8.  16.   6.  18.   4.  20.  21.  22.  23.  24.   0.   1.   2.   3.\n",
      "   4.   5.   6.   7.   8.   9.  10.  11.  37.  10.  39.   8.   7.  42.  43.\n",
      "  44.   3.  46.   1.   0.  49.   0.   1.   2.   3.   4.   5.   6.   7.   8.\n",
      "   9.  10.  11.  12.  10.  14.   8.   7.  17.  18.  19.   3.  21.   1.   0.\n",
      "  24.   0.   1.   2.   3.   4.   5.   6.   7.   8.   9.  10.  11.  11.  10.\n",
      "   9.   8.   7.   6.   5.   4.   3.   2.   1.   0.]\n",
      "\n",
      "Optimized Value Function:\n",
      "[  0.00000000e+00   7.24792480e-05   2.90025957e-04   6.95257448e-04\n",
      "   1.16553530e-03   1.77117810e-03   2.78102979e-03   4.03661077e-03\n",
      "   4.66282014e-03   5.60118258e-03   7.08471239e-03   9.04084742e-03\n",
      "   1.11241192e-02   1.56793594e-02   1.61464431e-02   1.69533836e-02\n",
      "   1.86524581e-02   1.98258869e-02   2.24056356e-02   2.73845196e-02\n",
      "   2.83400377e-02   3.04944152e-02   3.61633897e-02   3.84958114e-02\n",
      "   4.44968586e-02   6.25000000e-02   6.27175195e-02   6.33741515e-02\n",
      "   6.45857723e-02   6.59971151e-02   6.78135343e-02   7.08430894e-02\n",
      "   7.46098323e-02   7.64893436e-02   7.93042267e-02   8.37550283e-02\n",
      "   8.96225423e-02   9.58726439e-02   1.09538140e-01   1.10939329e-01\n",
      "   1.13360151e-01   1.18457374e-01   1.21978170e-01   1.29716907e-01\n",
      "   1.44653605e-01   1.47520113e-01   1.53983628e-01   1.70990204e-01\n",
      "   1.77987721e-01   1.95990790e-01   2.50000000e-01   2.50217519e-01\n",
      "   2.50874151e-01   2.52085772e-01   2.53497115e-01   2.55313534e-01\n",
      "   2.58343089e-01   2.62109832e-01   2.63989344e-01   2.66804227e-01\n",
      "   2.71255028e-01   2.77122542e-01   2.83372644e-01   2.97038140e-01\n",
      "   2.98439329e-01   3.00860151e-01   3.05957374e-01   3.09478170e-01\n",
      "   3.17216907e-01   3.32153605e-01   3.35020113e-01   3.41483628e-01\n",
      "   3.58490204e-01   3.65487721e-01   3.83490790e-01   4.37500000e-01\n",
      "   4.38155614e-01   4.40122836e-01   4.43757317e-01   4.47992008e-01\n",
      "   4.53441271e-01   4.62529483e-01   4.73829497e-01   4.79468031e-01\n",
      "   4.87912680e-01   5.01265085e-01   5.18867653e-01   5.37618093e-01\n",
      "   5.78616710e-01   5.82817988e-01   5.90080953e-01   6.05372123e-01\n",
      "   6.15934510e-01   6.39150739e-01   6.83962533e-01   6.92560715e-01\n",
      "   7.11950883e-01   7.62971899e-01   7.83963162e-01   8.37972371e-01\n",
      "   0.00000000e+00]\n",
      "\n"
     ]
    }
   ],
   "source": [
    "policy, v = value_iteration_for_gamblers(0.25)\n",
    "\n",
    "print(\"Optimized Policy:\")\n",
    "print(policy)\n",
    "print(\"\")\n",
    "\n",
    "print(\"Optimized Value Function:\")\n",
    "print(v)\n",
    "print(\"\")"
   ]
  },
  {
   "cell_type": "code",
   "execution_count": 5,
   "metadata": {
    "collapsed": true
   },
   "outputs": [],
   "source": [
    "# Plotting Final Policy (action stake) vs State (Capital)\n",
    "\n",
    "# Implement!"
   ]
  },
  {
   "cell_type": "code",
   "execution_count": 6,
   "metadata": {
    "collapsed": true
   },
   "outputs": [],
   "source": [
    "# Plotting Capital vs Final Policy\n",
    "\n",
    "# Implement!\n"
   ]
  }
 ],
 "metadata": {
  "kernelspec": {
   "display_name": "Python 3",
   "language": "python",
   "name": "python3"
  },
  "language_info": {
   "codemirror_mode": {
    "name": "ipython",
    "version": 3
   },
   "file_extension": ".py",
   "mimetype": "text/x-python",
   "name": "python",
   "nbconvert_exporter": "python",
   "pygments_lexer": "ipython3",
   "version": "3.5.4"
  }
 },
 "nbformat": 4,
 "nbformat_minor": 1
}
